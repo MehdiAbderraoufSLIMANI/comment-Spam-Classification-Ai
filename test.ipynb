{
 "cells": [
  {
   "cell_type": "code",
   "execution_count": 69,
   "metadata": {},
   "outputs": [],
   "source": [
    "#the Imports\n",
    "import pandas as pd\n",
    "import numpy as np\n",
    "from sklearn.model_selection import train_test_split\n",
    "from sklearn.feature_extraction.text import CountVectorizer\n",
    "from sklearn.linear_model import LogisticRegression\n",
    "from sklearn.feature_extraction.text import TfidfVectorizer\n",
    "from sklearn.model_selection import GridSearchCV\n",
    "from sklearn.pipeline import Pipeline"
   ]
  },
  {
   "cell_type": "code",
   "execution_count": 74,
   "metadata": {},
   "outputs": [
    {
     "name": "stdout",
     "output_type": "stream",
     "text": [
      "[0] \n",
      "accurasy :  0.967741935483871\n"
     ]
    }
   ],
   "source": [
    "data = pd.read_csv('theDataset/Shakira.csv')\n",
    "\n",
    "data = data.drop(['COMMENT_ID', 'AUTHOR', 'DATE'], axis=1)\n",
    "# CONTENT / CLASS\n",
    "\n",
    "x= data['CONTENT']\n",
    "y=data['CLASS']\n",
    "\n",
    "#x=x.replace(r'#([^\\s]+)', r'\\1', regex=True)\n",
    "#x=x.replace('\\'\"',regex=True)\n",
    "\n",
    "# nradj3o al data statistics \n",
    "vectorizer = CountVectorizer( )\n",
    "featuers = vectorizer.fit_transform(x) \n",
    " \n",
    "X_train, X_test,y_train, y_test = train_test_split(featuers,y ,\n",
    "                                   test_size=0.25, \n",
    "                                   shuffle=True)\n",
    "\n",
    "\n",
    "\n",
    " \n",
    "modle = LogisticRegression()\n",
    "modle.fit(X_train, y_train)  \n",
    "\n",
    "featuerspre = vectorizer.transform([\"dgfsgf\"]) \n",
    "\n",
    "y_pred = modle.predict(featuerspre) \n",
    "\n",
    "print(y_pred,featuerspre)\n",
    "print(\"accurasy : \",modle.score(X_test,y_test))\n",
    "# cfl accurasy :  0.956989247311828\n",
    "#accurasy :  0.9354838709677419\n",
    "\n",
    "#The final accurasy :  0.967741935483871"
   ]
  }
 ],
 "metadata": {
  "kernelspec": {
   "display_name": "base",
   "language": "python",
   "name": "python3"
  },
  "language_info": {
   "codemirror_mode": {
    "name": "ipython",
    "version": 3
   },
   "file_extension": ".py",
   "mimetype": "text/x-python",
   "name": "python",
   "nbconvert_exporter": "python",
   "pygments_lexer": "ipython3",
   "version": "3.8.8"
  },
  "orig_nbformat": 4,
  "vscode": {
   "interpreter": {
    "hash": "9c1d5a056f04d97314a9f946bc8c5185004572d3d68312220c0ba298420421f7"
   }
  }
 },
 "nbformat": 4,
 "nbformat_minor": 2
}
